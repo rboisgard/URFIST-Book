{
  "nbformat": 4,
  "nbformat_minor": 0,
  "metadata": {
    "colab": {
      "name": "Essai_prog_colab_v1.ipynb",
      "provenance": [],
      "authorship_tag": "ABX9TyN+19BFn+YjSKwlwp3OSzID",
      "include_colab_link": true
    },
    "kernelspec": {
      "name": "python3",
      "display_name": "Python 3"
    }
  },
  "cells": [
    {
      "cell_type": "markdown",
      "metadata": {
        "id": "view-in-github",
        "colab_type": "text"
      },
      "source": [
        "<a href=\"https://colab.research.google.com/github/rboisgard/URFIST-Book/blob/master/Essai_prog_colab_v1.ipynb\" target=\"_parent\"><img src=\"https://colab.research.google.com/assets/colab-badge.svg\" alt=\"Open In Colab\"/></a>"
      ]
    },
    {
      "cell_type": "markdown",
      "metadata": {
        "id": "86hPjXnHdCFs",
        "colab_type": "text"
      },
      "source": [
        "# Essai de programme python sur Colab\n",
        "Une petite formule $E = mc^2$\n",
        "\n",
        "En format *display*\n",
        "$$\n",
        "J = \\int \\frac{dx}{\\sqrt{1+x^2}}\n",
        "$$\n",
        "et un morceau de code\n",
        "```python\n",
        "import numpy as np\n",
        "````"
      ]
    },
    {
      "cell_type": "code",
      "metadata": {
        "id": "ry6D2CtJb9HC",
        "colab_type": "code",
        "colab": {}
      },
      "source": [
        "import numpy as np\n",
        "import matplotlib.pyplot as plt"
      ],
      "execution_count": 0,
      "outputs": []
    },
    {
      "cell_type": "code",
      "metadata": {
        "id": "JoPPFOVocKeR",
        "colab_type": "code",
        "colab": {}
      },
      "source": [
        "x = np.linspace(0, 10, 500)\n",
        "y = np.sin(x)*np.exp(-x/5)"
      ],
      "execution_count": 0,
      "outputs": []
    },
    {
      "cell_type": "markdown",
      "metadata": {
        "id": "tb39fSgRd9ax",
        "colab_type": "text"
      },
      "source": [
        "Un plot"
      ]
    },
    {
      "cell_type": "code",
      "metadata": {
        "id": "MjJTT4IQcpqe",
        "colab_type": "code",
        "outputId": "cba41793-eebf-4973-ccc9-9b58b261818f",
        "colab": {
          "base_uri": "https://localhost:8080/",
          "height": 269
        }
      },
      "source": [
        "plt.plot(x, y)\n",
        "plt.show()"
      ],
      "execution_count": 0,
      "outputs": [
        {
          "output_type": "display_data",
          "data": {
            "image/png": "[encoded data removed]",
            "text/plain": [
              "<Figure size 432x288 with 1 Axes>"
            ]
          },
          "metadata": {
            "tags": [],
            "needs_background": "light"
          }
        }
      ]
    },
    {
      "cell_type": "markdown",
      "metadata": {
        "id": "sItPLByOfiff",
        "colab_type": "text"
      },
      "source": [
        "Insertion d'une image :\n",
        "\n",
        "![pendule_boulon](https://drive.google.com/uc?export=view&id=1Q1gQF2Yp7qug9PPLk0p1tMgTwjLttcOo)\n",
        "\n",
        "> Bloc en retrait\n",
        "\n"
      ]
    },
    {
      "cell_type": "code",
      "metadata": {
        "id": "vGB_A06Fcuv2",
        "colab_type": "code",
        "colab": {}
      },
      "source": [
        ""
      ],
      "execution_count": 0,
      "outputs": []
    },
    {
      "cell_type": "code",
      "metadata": {
        "id": "etiDLEVpdKNZ",
        "colab_type": "code",
        "colab": {}
      },
      "source": [
        ""
      ],
      "execution_count": 0,
      "outputs": []
    }
  ]
}